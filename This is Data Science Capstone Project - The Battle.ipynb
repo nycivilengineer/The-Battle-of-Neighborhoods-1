{
    "cells": [
        {
            "metadata": {},
            "cell_type": "markdown",
            "source": "# This is Data Science Capstone Project - The Battle of Neighborhoods"
        },
        {
            "metadata": {},
            "cell_type": "code",
            "source": "\nBusiness Problem section\nBackground\n\nAccording to Newsweekjapan news, the popularity rankings of countries for moving abroad because of corona.\nCanada if you're moving! Among the 101 countries in the world, Canada ranked first, Japan is second.\nOf the 101 countries, 29 ranked Canada as the country most likely to immigrate. Japan was ranked number one by 13 countries, making it the world's second largest immigrant country. Third place went to Spain, followed by Germany, Qatar and Australia. Canada's neighbor, the United States, ranks ninth.\nBusiness Problem\n\nthe distinct culture and geographcial location differences among of New York, Toronto, and Tokyo,\nI am trying to find out similar or differences neighborhoods among these cities.\nData Science Methodology\n\n    Collect Inspection Data\n    Explore and Understand Data\n    Data preparation and preprocessing\n    Modeling\n    visualization\n\n    Search the city address data of New York, Toronto, and Tokyo on the internet.\n    Convert addresses into their equivalent latitude and longitude values. also use the Foursquare API to explore neighborhoods.\n    I will use the explore function to get the most common venue categories in each neighborhood, and then use this feature to group the neighborhoods into clusters.\n    I will Use hierarchical agglomerative clustering method to compare neighborhoods among cities to complete this task.\n    I will use WordCloud and the Folium library to visualize the neighborhoods in New York City and their emerging clusters.\n    Finally, I will make a conclusion at last step.\n\n",
            "execution_count": null,
            "outputs": []
        },
        {
            "metadata": {},
            "cell_type": "markdown",
            "source": "# 1. Import packages"
        },
        {
            "metadata": {},
            "cell_type": "code",
            "source": "import numpy as np\nimport pandas as pd\npd.set_option('display.max_columns', None)\npd.set_option('display.max_rows', None)\nimport json\nfrom geopy.geocoders import Nominatim \nimport requests \nfrom pandas.io.json import json_normalize\nimport matplotlib.cm as cm\nimport matplotlib.pyplot as plt\nimport matplotlib.colors as colors\nimport folium # map rendering library\n\nprint('Libraries imported.')",
            "execution_count": 1,
            "outputs": [
                {
                    "output_type": "error",
                    "ename": "ModuleNotFoundError",
                    "evalue": "No module named 'folium'",
                    "traceback": [
                        "\u001b[0;31m---------------------------------------------------------------------------\u001b[0m",
                        "\u001b[0;31mModuleNotFoundError\u001b[0m                       Traceback (most recent call last)",
                        "\u001b[0;32m<ipython-input-1-cb39b3ff850f>\u001b[0m in \u001b[0;36m<module>\u001b[0;34m\u001b[0m\n\u001b[1;32m     10\u001b[0m \u001b[0;32mimport\u001b[0m \u001b[0mmatplotlib\u001b[0m\u001b[0;34m.\u001b[0m\u001b[0mpyplot\u001b[0m \u001b[0;32mas\u001b[0m \u001b[0mplt\u001b[0m\u001b[0;34m\u001b[0m\u001b[0;34m\u001b[0m\u001b[0m\n\u001b[1;32m     11\u001b[0m \u001b[0;32mimport\u001b[0m \u001b[0mmatplotlib\u001b[0m\u001b[0;34m.\u001b[0m\u001b[0mcolors\u001b[0m \u001b[0;32mas\u001b[0m \u001b[0mcolors\u001b[0m\u001b[0;34m\u001b[0m\u001b[0;34m\u001b[0m\u001b[0m\n\u001b[0;32m---> 12\u001b[0;31m \u001b[0;32mimport\u001b[0m \u001b[0mfolium\u001b[0m \u001b[0;31m# map rendering library\u001b[0m\u001b[0;34m\u001b[0m\u001b[0;34m\u001b[0m\u001b[0m\n\u001b[0m\u001b[1;32m     13\u001b[0m \u001b[0;34m\u001b[0m\u001b[0m\n\u001b[1;32m     14\u001b[0m \u001b[0mprint\u001b[0m\u001b[0;34m(\u001b[0m\u001b[0;34m'Libraries imported.'\u001b[0m\u001b[0;34m)\u001b[0m\u001b[0;34m\u001b[0m\u001b[0;34m\u001b[0m\u001b[0m\n",
                        "\u001b[0;31mModuleNotFoundError\u001b[0m: No module named 'folium'"
                    ]
                }
            ]
        },
        {
            "metadata": {},
            "cell_type": "markdown",
            "source": "# 2. Prepare for the city map function to show different neighborhood labels based on Borough"
        },
        {
            "metadata": {},
            "cell_type": "code",
            "source": "def city_map(city,country,df):\n    # create map\n    address = city + ',' + country\n\n    geolocator = Nominatim(user_agent=\"ny_explorer\")\n    location = geolocator.geocode(address)\n    latitude = location.latitude\n    longitude = location.longitude\n    citymap = folium.Map(location=[latitude, longitude], zoom_start=10)\n\n    # set color scheme for the Borough\n    borough_name = df['Borough'].unique().tolist()\n    colnum = df['Borough'].unique().size\n    x = np.arange(colnum)\n    ys = [i+x+(i*x)**2 for i in range(colnum)]\n    colors_array = cm.rainbow(np.linspace(0, 1, len(ys)))\n    rainbow = [colors.rgb2hex(i) for i in colors_array]\n\n    # add markers to the map\n    for lat, lon, neighborhood, borough in zip(df['Latitude'], df['Longitude'], df['Neighborhood'], df['Borough']):\n        cluster = borough_name.index(borough)\n        label = '{}, {}'.format(neighborhood, borough)\n        label = folium.Popup(label, parse_html=True)\n        folium.CircleMarker(\n            [lat, lon],\n            radius=5,\n            popup=label,\n            color=rainbow[cluster],\n            fill=True,\n            fill_color=rainbow[cluster],\n            fill_opacity=0.7).add_to(citymap)\n    \n    return citymap",
            "execution_count": 2,
            "outputs": []
        },
        {
            "metadata": {},
            "cell_type": "markdown",
            "source": "# 3. Download and Explore Dataset"
        },
        {
            "metadata": {},
            "cell_type": "code",
            "source": "with open('new_york.json') as json_data:\n    newyork_data = json.load(json_data)\n    \nneighborhoods_data_ny = newyork_data['features']\n\n# define the dataframe with four columns: City, Borough, Neighborhood, Latitude, Longitude\ncolumn_names = ['City','Borough', 'Neighborhood', 'Latitude', 'Longitude'] \nny_neighborhoods = pd.DataFrame(columns=column_names)\n\nfor data in neighborhoods_data_ny:\n    borough = neighborhood_name = data['properties']['borough'] \n    neighborhood_name = data['properties']['name']\n        \n    neighborhood_latlon = data['geometry']['coordinates']\n    neighborhood_lat = neighborhood_latlon[1]\n    neighborhood_lon = neighborhood_latlon[0]\n    \n    ny_neighborhoods = ny_neighborhoods.append({'City': 'New York',\n                                          'Borough': borough,\n                                          'Neighborhood': neighborhood_name,\n                                          'Latitude': neighborhood_lat,\n                                          'Longitude': neighborhood_lon}, ignore_index=True)\n    \nprint(ny_neighborhoods.shape)\nny_neighborhoods.head()",
            "execution_count": null,
            "outputs": []
        },
        {
            "metadata": {},
            "cell_type": "code",
            "source": "New York neighborhood data",
            "execution_count": null,
            "outputs": []
        },
        {
            "metadata": {},
            "cell_type": "code",
            "source": "Make this Notebook Trusted to load map: File -> Trust Notebook",
            "execution_count": null,
            "outputs": []
        },
        {
            "metadata": {},
            "cell_type": "markdown",
            "source": " \tCity \tBorough \tNeighborhood \tLatitude \tLongitude\n0 \tNew York \tBronx \tWakefield \t40.894705 \t-73.847201\n1 \tNew York \tBronx \tCo-op City \t40.874294 \t-73.829939\n2 \tNew York \tBronx \tEastchester \t40.887556 \t-73.827806\n3 \tNew York \tBronx \tFieldston \t40.895437 \t-73.905643\n4 \tNew York \tBronx \tRiverdale \t40.890834 \t-73.912585"
        },
        {
            "metadata": {},
            "cell_type": "markdown",
            "source": "# We see that all the neighorhoods in the same Borough fall into the same color and are well seprated in map, indicating good quality of data."
        },
        {
            "metadata": {},
            "cell_type": "code",
            "source": "Toronto neighborhood data",
            "execution_count": null,
            "outputs": []
        },
        {
            "metadata": {},
            "cell_type": "code",
            "source": "# Read Toronto neighborhood data from wikipedia page\ntoronto = pd.read_html('https://en.wikipedia.org/wiki/List_of_postal_codes_of_Canada:_M',header=0)[0]\n# Clean dataframe, delete rows with 'Not assigned'\ntoronto = toronto[~toronto.Borough.str.contains(\"Not assigned\") == True]\n#rename column names\ntoronto.rename(columns={\"Postal Code\":'PostalCode',\"Neighbourhood\":\"Neighborhood\"}, inplace=True)\n#dataframe sort_values\ntoronto = pd.DataFrame(toronto).sort_values(by=['PostalCode'])\n# Reset index for dataframe\ntoronto.reset_index(drop=True,inplace=True)\nprint(toronto.shape)\ntoronto.head()",
            "execution_count": 6,
            "outputs": [
                {
                    "output_type": "stream",
                    "text": "(103, 3)\n",
                    "name": "stdout"
                },
                {
                    "output_type": "execute_result",
                    "execution_count": 6,
                    "data": {
                        "text/plain": "  PostalCode      Borough                            Neighborhood\n0        M1B  Scarborough                          Malvern, Rouge\n1        M1C  Scarborough  Rouge Hill, Port Union, Highland Creek\n2        M1E  Scarborough       Guildwood, Morningside, West Hill\n3        M1G  Scarborough                                  Woburn\n4        M1H  Scarborough                               Cedarbrae",
                        "text/html": "<div>\n<style scoped>\n    .dataframe tbody tr th:only-of-type {\n        vertical-align: middle;\n    }\n\n    .dataframe tbody tr th {\n        vertical-align: top;\n    }\n\n    .dataframe thead th {\n        text-align: right;\n    }\n</style>\n<table border=\"1\" class=\"dataframe\">\n  <thead>\n    <tr style=\"text-align: right;\">\n      <th></th>\n      <th>PostalCode</th>\n      <th>Borough</th>\n      <th>Neighborhood</th>\n    </tr>\n  </thead>\n  <tbody>\n    <tr>\n      <th>0</th>\n      <td>M1B</td>\n      <td>Scarborough</td>\n      <td>Malvern, Rouge</td>\n    </tr>\n    <tr>\n      <th>1</th>\n      <td>M1C</td>\n      <td>Scarborough</td>\n      <td>Rouge Hill, Port Union, Highland Creek</td>\n    </tr>\n    <tr>\n      <th>2</th>\n      <td>M1E</td>\n      <td>Scarborough</td>\n      <td>Guildwood, Morningside, West Hill</td>\n    </tr>\n    <tr>\n      <th>3</th>\n      <td>M1G</td>\n      <td>Scarborough</td>\n      <td>Woburn</td>\n    </tr>\n    <tr>\n      <th>4</th>\n      <td>M1H</td>\n      <td>Scarborough</td>\n      <td>Cedarbrae</td>\n    </tr>\n  </tbody>\n</table>\n</div>"
                    },
                    "metadata": {}
                }
            ]
        },
        {
            "metadata": {},
            "cell_type": "code",
            "source": "#Read Toronto geo\nurl = 'https://cocl.us/Geospatial_data/Geospatial_Coordinates.csv'\ntoronto_geo = pd.read_csv(url)\ntoronto_geo.rename(columns={\"Postal Code\":'PostalCode'}, inplace=True)\ntoronto_geo = pd.DataFrame(toronto_geo).sort_values(by=['PostalCode'])\nprint(toronto_geo.shape)\ntoronto_geo.head()",
            "execution_count": 7,
            "outputs": [
                {
                    "output_type": "stream",
                    "text": "(103, 3)\n",
                    "name": "stdout"
                },
                {
                    "output_type": "execute_result",
                    "execution_count": 7,
                    "data": {
                        "text/plain": "  PostalCode   Latitude  Longitude\n0        M1B  43.806686 -79.194353\n1        M1C  43.784535 -79.160497\n2        M1E  43.763573 -79.188711\n3        M1G  43.770992 -79.216917\n4        M1H  43.773136 -79.239476",
                        "text/html": "<div>\n<style scoped>\n    .dataframe tbody tr th:only-of-type {\n        vertical-align: middle;\n    }\n\n    .dataframe tbody tr th {\n        vertical-align: top;\n    }\n\n    .dataframe thead th {\n        text-align: right;\n    }\n</style>\n<table border=\"1\" class=\"dataframe\">\n  <thead>\n    <tr style=\"text-align: right;\">\n      <th></th>\n      <th>PostalCode</th>\n      <th>Latitude</th>\n      <th>Longitude</th>\n    </tr>\n  </thead>\n  <tbody>\n    <tr>\n      <th>0</th>\n      <td>M1B</td>\n      <td>43.806686</td>\n      <td>-79.194353</td>\n    </tr>\n    <tr>\n      <th>1</th>\n      <td>M1C</td>\n      <td>43.784535</td>\n      <td>-79.160497</td>\n    </tr>\n    <tr>\n      <th>2</th>\n      <td>M1E</td>\n      <td>43.763573</td>\n      <td>-79.188711</td>\n    </tr>\n    <tr>\n      <th>3</th>\n      <td>M1G</td>\n      <td>43.770992</td>\n      <td>-79.216917</td>\n    </tr>\n    <tr>\n      <th>4</th>\n      <td>M1H</td>\n      <td>43.773136</td>\n      <td>-79.239476</td>\n    </tr>\n  </tbody>\n</table>\n</div>"
                    },
                    "metadata": {}
                }
            ]
        },
        {
            "metadata": {},
            "cell_type": "code",
            "source": "# merge toronto city and geo to toronto neighborhoods\ntoronto_neighborhoods = pd.merge(toronto,toronto_geo,on='PostalCode')\ntoronto_neighborhoods.head()",
            "execution_count": 8,
            "outputs": [
                {
                    "output_type": "execute_result",
                    "execution_count": 8,
                    "data": {
                        "text/plain": "  PostalCode      Borough                            Neighborhood   Latitude  \\\n0        M1B  Scarborough                          Malvern, Rouge  43.806686   \n1        M1C  Scarborough  Rouge Hill, Port Union, Highland Creek  43.784535   \n2        M1E  Scarborough       Guildwood, Morningside, West Hill  43.763573   \n3        M1G  Scarborough                                  Woburn  43.770992   \n4        M1H  Scarborough                               Cedarbrae  43.773136   \n\n   Longitude  \n0 -79.194353  \n1 -79.160497  \n2 -79.188711  \n3 -79.216917  \n4 -79.239476  ",
                        "text/html": "<div>\n<style scoped>\n    .dataframe tbody tr th:only-of-type {\n        vertical-align: middle;\n    }\n\n    .dataframe tbody tr th {\n        vertical-align: top;\n    }\n\n    .dataframe thead th {\n        text-align: right;\n    }\n</style>\n<table border=\"1\" class=\"dataframe\">\n  <thead>\n    <tr style=\"text-align: right;\">\n      <th></th>\n      <th>PostalCode</th>\n      <th>Borough</th>\n      <th>Neighborhood</th>\n      <th>Latitude</th>\n      <th>Longitude</th>\n    </tr>\n  </thead>\n  <tbody>\n    <tr>\n      <th>0</th>\n      <td>M1B</td>\n      <td>Scarborough</td>\n      <td>Malvern, Rouge</td>\n      <td>43.806686</td>\n      <td>-79.194353</td>\n    </tr>\n    <tr>\n      <th>1</th>\n      <td>M1C</td>\n      <td>Scarborough</td>\n      <td>Rouge Hill, Port Union, Highland Creek</td>\n      <td>43.784535</td>\n      <td>-79.160497</td>\n    </tr>\n    <tr>\n      <th>2</th>\n      <td>M1E</td>\n      <td>Scarborough</td>\n      <td>Guildwood, Morningside, West Hill</td>\n      <td>43.763573</td>\n      <td>-79.188711</td>\n    </tr>\n    <tr>\n      <th>3</th>\n      <td>M1G</td>\n      <td>Scarborough</td>\n      <td>Woburn</td>\n      <td>43.770992</td>\n      <td>-79.216917</td>\n    </tr>\n    <tr>\n      <th>4</th>\n      <td>M1H</td>\n      <td>Scarborough</td>\n      <td>Cedarbrae</td>\n      <td>43.773136</td>\n      <td>-79.239476</td>\n    </tr>\n  </tbody>\n</table>\n</div>"
                    },
                    "metadata": {}
                }
            ]
        },
        {
            "metadata": {},
            "cell_type": "code",
            "source": "# change PostalCode to City\ntoronto_neighborhoods.rename(columns={'PostalCode':'City'}, inplace=True)\ntoronto_neighborhoods[\"City\"] = \"Toronto\"\nprint(toronto_neighborhoods.shape)\ntoronto_neighborhoods.head()",
            "execution_count": 9,
            "outputs": [
                {
                    "output_type": "stream",
                    "text": "(103, 5)\n",
                    "name": "stdout"
                },
                {
                    "output_type": "execute_result",
                    "execution_count": 9,
                    "data": {
                        "text/plain": "      City      Borough                            Neighborhood   Latitude  \\\n0  Toronto  Scarborough                          Malvern, Rouge  43.806686   \n1  Toronto  Scarborough  Rouge Hill, Port Union, Highland Creek  43.784535   \n2  Toronto  Scarborough       Guildwood, Morningside, West Hill  43.763573   \n3  Toronto  Scarborough                                  Woburn  43.770992   \n4  Toronto  Scarborough                               Cedarbrae  43.773136   \n\n   Longitude  \n0 -79.194353  \n1 -79.160497  \n2 -79.188711  \n3 -79.216917  \n4 -79.239476  ",
                        "text/html": "<div>\n<style scoped>\n    .dataframe tbody tr th:only-of-type {\n        vertical-align: middle;\n    }\n\n    .dataframe tbody tr th {\n        vertical-align: top;\n    }\n\n    .dataframe thead th {\n        text-align: right;\n    }\n</style>\n<table border=\"1\" class=\"dataframe\">\n  <thead>\n    <tr style=\"text-align: right;\">\n      <th></th>\n      <th>City</th>\n      <th>Borough</th>\n      <th>Neighborhood</th>\n      <th>Latitude</th>\n      <th>Longitude</th>\n    </tr>\n  </thead>\n  <tbody>\n    <tr>\n      <th>0</th>\n      <td>Toronto</td>\n      <td>Scarborough</td>\n      <td>Malvern, Rouge</td>\n      <td>43.806686</td>\n      <td>-79.194353</td>\n    </tr>\n    <tr>\n      <th>1</th>\n      <td>Toronto</td>\n      <td>Scarborough</td>\n      <td>Rouge Hill, Port Union, Highland Creek</td>\n      <td>43.784535</td>\n      <td>-79.160497</td>\n    </tr>\n    <tr>\n      <th>2</th>\n      <td>Toronto</td>\n      <td>Scarborough</td>\n      <td>Guildwood, Morningside, West Hill</td>\n      <td>43.763573</td>\n      <td>-79.188711</td>\n    </tr>\n    <tr>\n      <th>3</th>\n      <td>Toronto</td>\n      <td>Scarborough</td>\n      <td>Woburn</td>\n      <td>43.770992</td>\n      <td>-79.216917</td>\n    </tr>\n    <tr>\n      <th>4</th>\n      <td>Toronto</td>\n      <td>Scarborough</td>\n      <td>Cedarbrae</td>\n      <td>43.773136</td>\n      <td>-79.239476</td>\n    </tr>\n  </tbody>\n</table>\n</div>"
                    },
                    "metadata": {}
                }
            ]
        },
        {
            "metadata": {},
            "cell_type": "code",
            "source": "\n\ntoronto_neighborhoods['Borough'].unique()\n\n",
            "execution_count": 10,
            "outputs": [
                {
                    "output_type": "execute_result",
                    "execution_count": 10,
                    "data": {
                        "text/plain": "array(['Scarborough', 'North York', 'East York', 'East Toronto',\n       'Central Toronto', 'Downtown Toronto', 'York', 'West Toronto',\n       'Mississauga', 'Etobicoke'], dtype=object)"
                    },
                    "metadata": {}
                }
            ]
        },
        {
            "metadata": {},
            "cell_type": "code",
            "source": "Make this Notebook Trusted to load map: File -> Trust Notebook",
            "execution_count": null,
            "outputs": []
        },
        {
            "metadata": {},
            "cell_type": "markdown",
            "source": "# Tokyo neighborhood data"
        },
        {
            "metadata": {},
            "cell_type": "code",
            "source": "# https://en.wikipedia.org/wiki/Special_wards_of_Tokyo#List_of_special_wards\n# Read Tokyo neighborhood data from wikipedia page\ntk = pd.read_html('https://en.wikipedia.org/wiki/Special_wards_of_Tokyo#List_of_special_wards',header=0)[3]\ntk = pd.DataFrame(tk)\n#print(tokyo.columns.values)\ntk.drop(['No.','Flag','Density(/km2)','Area(km2)','Population(as of October\\xa02016','Kanji'],axis=1,inplace=True)\n#rename column names\ntk.rename(columns={\"Name\":'Borough',\"Major districts\":\"Neighborhood\"}, inplace=True)\ncolumns = [\"City\"]\ntokyo = pd.DataFrame(columns=columns)\ntokyo = pd.concat([tokyo,tk])\ntokyo[\"City\"] = \"Tokyo\"\nprint(tokyo.shape)\ntokyo.head()",
            "execution_count": 11,
            "outputs": [
                {
                    "output_type": "stream",
                    "text": "(24, 3)\n",
                    "name": "stdout"
                },
                {
                    "output_type": "execute_result",
                    "execution_count": 11,
                    "data": {
                        "text/plain": "    City   Borough                                       Neighborhood\n0  Tokyo   Chiyoda  Nagatach\u014d, Kasumigaseki, \u014ctemachi, Marunouchi,...\n1  Tokyo      Ch\u016b\u014d  Nihonbashi, Kayabach\u014d, Ginza, Tsukiji, Hatch\u014db...\n2  Tokyo    Minato  Odaiba, Shinbashi, Hamamatsuch\u014d, Mita, Roppong...\n3  Tokyo  Shinjuku  Shinjuku, Takadanobaba, \u014ckubo, Kagurazaka, Ich...\n4  Tokyo    Bunky\u014d                              Hong\u014d, Yayoi, Hakusan",
                        "text/html": "<div>\n<style scoped>\n    .dataframe tbody tr th:only-of-type {\n        vertical-align: middle;\n    }\n\n    .dataframe tbody tr th {\n        vertical-align: top;\n    }\n\n    .dataframe thead th {\n        text-align: right;\n    }\n</style>\n<table border=\"1\" class=\"dataframe\">\n  <thead>\n    <tr style=\"text-align: right;\">\n      <th></th>\n      <th>City</th>\n      <th>Borough</th>\n      <th>Neighborhood</th>\n    </tr>\n  </thead>\n  <tbody>\n    <tr>\n      <th>0</th>\n      <td>Tokyo</td>\n      <td>Chiyoda</td>\n      <td>Nagatach\u014d, Kasumigaseki, \u014ctemachi, Marunouchi,...</td>\n    </tr>\n    <tr>\n      <th>1</th>\n      <td>Tokyo</td>\n      <td>Ch\u016b\u014d</td>\n      <td>Nihonbashi, Kayabach\u014d, Ginza, Tsukiji, Hatch\u014db...</td>\n    </tr>\n    <tr>\n      <th>2</th>\n      <td>Tokyo</td>\n      <td>Minato</td>\n      <td>Odaiba, Shinbashi, Hamamatsuch\u014d, Mita, Roppong...</td>\n    </tr>\n    <tr>\n      <th>3</th>\n      <td>Tokyo</td>\n      <td>Shinjuku</td>\n      <td>Shinjuku, Takadanobaba, \u014ckubo, Kagurazaka, Ich...</td>\n    </tr>\n    <tr>\n      <th>4</th>\n      <td>Tokyo</td>\n      <td>Bunky\u014d</td>\n      <td>Hong\u014d, Yayoi, Hakusan</td>\n    </tr>\n  </tbody>\n</table>\n</div>"
                    },
                    "metadata": {}
                }
            ]
        },
        {
            "metadata": {},
            "cell_type": "code",
            "source": "tokyo.replace(regex=['\u014c'], value='O',inplace=True)\ntokyo.replace(regex=['\u014d'], value='o',inplace=True)\ntokyo.replace(regex=['\u016b'], value='u',inplace=True)\ntokyo.head()",
            "execution_count": 12,
            "outputs": [
                {
                    "output_type": "execute_result",
                    "execution_count": 12,
                    "data": {
                        "text/plain": "    City   Borough                                       Neighborhood\n0  Tokyo   Chiyoda  Nagatacho, Kasumigaseki, Otemachi, Marunouchi,...\n1  Tokyo      Chuo  Nihonbashi, Kayabacho, Ginza, Tsukiji, Hatchob...\n2  Tokyo    Minato  Odaiba, Shinbashi, Hamamatsucho, Mita, Roppong...\n3  Tokyo  Shinjuku  Shinjuku, Takadanobaba, Okubo, Kagurazaka, Ich...\n4  Tokyo    Bunkyo                              Hongo, Yayoi, Hakusan",
                        "text/html": "<div>\n<style scoped>\n    .dataframe tbody tr th:only-of-type {\n        vertical-align: middle;\n    }\n\n    .dataframe tbody tr th {\n        vertical-align: top;\n    }\n\n    .dataframe thead th {\n        text-align: right;\n    }\n</style>\n<table border=\"1\" class=\"dataframe\">\n  <thead>\n    <tr style=\"text-align: right;\">\n      <th></th>\n      <th>City</th>\n      <th>Borough</th>\n      <th>Neighborhood</th>\n    </tr>\n  </thead>\n  <tbody>\n    <tr>\n      <th>0</th>\n      <td>Tokyo</td>\n      <td>Chiyoda</td>\n      <td>Nagatacho, Kasumigaseki, Otemachi, Marunouchi,...</td>\n    </tr>\n    <tr>\n      <th>1</th>\n      <td>Tokyo</td>\n      <td>Chuo</td>\n      <td>Nihonbashi, Kayabacho, Ginza, Tsukiji, Hatchob...</td>\n    </tr>\n    <tr>\n      <th>2</th>\n      <td>Tokyo</td>\n      <td>Minato</td>\n      <td>Odaiba, Shinbashi, Hamamatsucho, Mita, Roppong...</td>\n    </tr>\n    <tr>\n      <th>3</th>\n      <td>Tokyo</td>\n      <td>Shinjuku</td>\n      <td>Shinjuku, Takadanobaba, Okubo, Kagurazaka, Ich...</td>\n    </tr>\n    <tr>\n      <th>4</th>\n      <td>Tokyo</td>\n      <td>Bunkyo</td>\n      <td>Hongo, Yayoi, Hakusan</td>\n    </tr>\n  </tbody>\n</table>\n</div>"
                    },
                    "metadata": {}
                }
            ]
        },
        {
            "metadata": {},
            "cell_type": "code",
            "source": "columns = [\"City\",'Borough','Neighborhood']\ntokyo_df = pd.DataFrame(columns=columns)\nfor i in range(tokyo.shape[0]):\n    borough = tokyo.loc[i,'Borough']\n    neighborhood = tokyo.loc[i,'Neighborhood']\n    \n    if pd.isnull(neighborhood) :\n        pass\n    else:\n        if neighborhood.find(','):\n            neighborhoods = neighborhood.split(',')\n            for i in range(len(neighborhoods)):\n                tokyo_df = tokyo_df.append({'City': 'Tokyo',\n                                        'Borough': borough,\n                                        'Neighborhood': neighborhoods[i]}, ignore_index=True)\n    \nprint(tokyo_df.shape)\ntokyo_df.head()",
            "execution_count": 13,
            "outputs": [
                {
                    "output_type": "stream",
                    "text": "(106, 3)\n",
                    "name": "stdout"
                },
                {
                    "output_type": "execute_result",
                    "execution_count": 13,
                    "data": {
                        "text/plain": "    City  Borough   Neighborhood\n0  Tokyo  Chiyoda      Nagatacho\n1  Tokyo  Chiyoda   Kasumigaseki\n2  Tokyo  Chiyoda       Otemachi\n3  Tokyo  Chiyoda     Marunouchi\n4  Tokyo  Chiyoda      Akihabara",
                        "text/html": "<div>\n<style scoped>\n    .dataframe tbody tr th:only-of-type {\n        vertical-align: middle;\n    }\n\n    .dataframe tbody tr th {\n        vertical-align: top;\n    }\n\n    .dataframe thead th {\n        text-align: right;\n    }\n</style>\n<table border=\"1\" class=\"dataframe\">\n  <thead>\n    <tr style=\"text-align: right;\">\n      <th></th>\n      <th>City</th>\n      <th>Borough</th>\n      <th>Neighborhood</th>\n    </tr>\n  </thead>\n  <tbody>\n    <tr>\n      <th>0</th>\n      <td>Tokyo</td>\n      <td>Chiyoda</td>\n      <td>Nagatacho</td>\n    </tr>\n    <tr>\n      <th>1</th>\n      <td>Tokyo</td>\n      <td>Chiyoda</td>\n      <td>Kasumigaseki</td>\n    </tr>\n    <tr>\n      <th>2</th>\n      <td>Tokyo</td>\n      <td>Chiyoda</td>\n      <td>Otemachi</td>\n    </tr>\n    <tr>\n      <th>3</th>\n      <td>Tokyo</td>\n      <td>Chiyoda</td>\n      <td>Marunouchi</td>\n    </tr>\n    <tr>\n      <th>4</th>\n      <td>Tokyo</td>\n      <td>Chiyoda</td>\n      <td>Akihabara</td>\n    </tr>\n  </tbody>\n</table>\n</div>"
                    },
                    "metadata": {}
                }
            ]
        },
        {
            "metadata": {},
            "cell_type": "markdown",
            "source": "# Convert addresses into their equivalent latitude and longitude values"
        },
        {
            "metadata": {},
            "cell_type": "code",
            "source": "#create a new dataframe tk_neighborhoods to find all neighborhoods with the location information\ntk_neighborhoods= pd.DataFrame(columns = ['City','Borough','Neighborhood'])\n\nfor i in range(tokyo_df.shape[0]):\n    borough = tokyo_df.loc[i,'Borough']\n    neighborhood = tokyo_df.loc[i,'Neighborhood']\n      \n    #find the location data, ignore the neighborhoods that are unable to be located by Nominatim\n    geolocator = Nominatim(user_agent=\"ny_explorer\")\n    location = geolocator.geocode(\"{},{},Tokyo,Japan\".format(neighborhood,borough))\n    \n    #try one more searching\n    if location is None: \n        location = geolocator.geocode(\"{},Tokyo,Japan\".format(neighborhood))\n        \n    if location is None: \n        print(\"The location data of {} in {} is not available!\".format(neighborhood,borough))\n    else:\n        tk_neighborhoods = tk_neighborhoods.append({'City': 'Tokyo',\n                                                'Borough': borough,\n                                                'Neighborhood': neighborhood,\n                                                'Latitude': location.latitude,\n                                                'Longitude': location.longitude\n                                               }, ignore_index=True)\n\ntk_neighborhoods.head()",
            "execution_count": 16,
            "outputs": [
                {
                    "output_type": "execute_result",
                    "execution_count": 16,
                    "data": {
                        "text/plain": "    City  Borough   Neighborhood   Latitude   Longitude\n0  Tokyo  Chiyoda      Nagatacho  35.675618  139.743469\n1  Tokyo  Chiyoda   Kasumigaseki  35.674054  139.750972\n2  Tokyo  Chiyoda       Otemachi  35.684631  139.766466\n3  Tokyo  Chiyoda     Marunouchi  35.680656  139.765222\n4  Tokyo  Chiyoda      Akihabara  35.698768  139.774255",
                        "text/html": "<div>\n<style scoped>\n    .dataframe tbody tr th:only-of-type {\n        vertical-align: middle;\n    }\n\n    .dataframe tbody tr th {\n        vertical-align: top;\n    }\n\n    .dataframe thead th {\n        text-align: right;\n    }\n</style>\n<table border=\"1\" class=\"dataframe\">\n  <thead>\n    <tr style=\"text-align: right;\">\n      <th></th>\n      <th>City</th>\n      <th>Borough</th>\n      <th>Neighborhood</th>\n      <th>Latitude</th>\n      <th>Longitude</th>\n    </tr>\n  </thead>\n  <tbody>\n    <tr>\n      <th>0</th>\n      <td>Tokyo</td>\n      <td>Chiyoda</td>\n      <td>Nagatacho</td>\n      <td>35.675618</td>\n      <td>139.743469</td>\n    </tr>\n    <tr>\n      <th>1</th>\n      <td>Tokyo</td>\n      <td>Chiyoda</td>\n      <td>Kasumigaseki</td>\n      <td>35.674054</td>\n      <td>139.750972</td>\n    </tr>\n    <tr>\n      <th>2</th>\n      <td>Tokyo</td>\n      <td>Chiyoda</td>\n      <td>Otemachi</td>\n      <td>35.684631</td>\n      <td>139.766466</td>\n    </tr>\n    <tr>\n      <th>3</th>\n      <td>Tokyo</td>\n      <td>Chiyoda</td>\n      <td>Marunouchi</td>\n      <td>35.680656</td>\n      <td>139.765222</td>\n    </tr>\n    <tr>\n      <th>4</th>\n      <td>Tokyo</td>\n      <td>Chiyoda</td>\n      <td>Akihabara</td>\n      <td>35.698768</td>\n      <td>139.774255</td>\n    </tr>\n  </tbody>\n</table>\n</div>"
                    },
                    "metadata": {}
                }
            ]
        },
        {
            "metadata": {},
            "cell_type": "markdown",
            "source": " \tCity \tBorough \tNeighborhood \tLatitude \tLongitude\n0 \tTokyo \tChiyoda \tNagatacho \t35.675618 \t139.743469\n1 \tTokyo \tChiyoda \tKasumigaseki \t35.674054 \t139.750972\n2 \tTokyo \tChiyoda \tOtemachi \t35.684631 \t139.766466\n3 \tTokyo \tChiyoda \tMarunouchi \t35.680656 \t139.765222\n4 \tTokyo \tChiyoda \tAkihabara \t35.698768 \t139.774255"
        },
        {
            "metadata": {},
            "cell_type": "code",
            "source": "print(tk_neighborhoods.shape)\ntk_neighborhoods['Borough'].unique()",
            "execution_count": 17,
            "outputs": [
                {
                    "output_type": "stream",
                    "text": "(106, 5)\n",
                    "name": "stdout"
                },
                {
                    "output_type": "execute_result",
                    "execution_count": 17,
                    "data": {
                        "text/plain": "array(['Chiyoda', 'Chuo', 'Minato', 'Shinjuku', 'Bunkyo', 'Taito',\n       'Sumida', 'Koto', 'Shinagawa', 'Meguro', 'Ota', 'Setagaya',\n       'Shibuya', 'Nakano', 'Suginami', 'Toshima', 'Kita', 'Arakawa',\n       'Itabashi', 'Nerima', 'Adachi', 'Katsushika', 'Edogawa'],\n      dtype=object)"
                    },
                    "metadata": {}
                }
            ]
        },
        {
            "metadata": {},
            "cell_type": "code",
            "source": "\nOut[22]:\n\narray(['Chiyoda', 'Chuo', 'Minato', 'Shinjuku', 'Bunkyo', 'Taito',\n       'Sumida', 'Koto', 'Shinagawa', 'Meguro', 'Ota', 'Setagaya',\n       'Shibuya', 'Nakano', 'Suginami', 'Toshima', 'Kita', 'Arakawa',\n       'Itabashi', 'Nerima', 'Adachi', 'Katsushika', 'Edogawa'],\n      dtype=object)\n\n",
            "execution_count": null,
            "outputs": []
        },
        {
            "metadata": {},
            "cell_type": "code",
            "source": "print('The dataframe has {} Borough and {} neighborhoods.'.format(\n        len(tokyo_df['Borough'].unique()),\n        tokyo_df.shape[0]\n    )\n)",
            "execution_count": 18,
            "outputs": [
                {
                    "output_type": "stream",
                    "text": "The dataframe has 23 Borough and 106 neighborhoods.\n",
                    "name": "stdout"
                }
            ]
        },
        {
            "metadata": {},
            "cell_type": "code",
            "source": "city_map('Tokyo','Japan', tk_neighborhoods)",
            "execution_count": null,
            "outputs": []
        },
        {
            "metadata": {},
            "cell_type": "code",
            "source": "Make this Notebook Trusted to load map: File -> Trust Notebook",
            "execution_count": null,
            "outputs": []
        },
        {
            "metadata": {},
            "cell_type": "markdown",
            "source": "# Save the data"
        },
        {
            "metadata": {},
            "cell_type": "code",
            "source": "ny_neighborhoods.to_csv('ny_neighborhoods.csv', index=False)\ntoronto_neighborhoods.to_csv('toronto_neighborhoods.csv', index=False)\ntk_neighborhoods.to_csv('tk_neighborhoods.csv', index=False)",
            "execution_count": null,
            "outputs": []
        },
        {
            "metadata": {},
            "cell_type": "markdown",
            "source": "# Use the Foursquare API to explore neighborhoods."
        },
        {
            "metadata": {},
            "cell_type": "code",
            "source": "CLIENT_ID = 'SYI5JTP05XIF2XSKSF02HRY405K2TVT20ZUCYYZAWEURD5CN' # Foursquare ID\nCLIENT_SECRET = 'PO4DVXK2YNAF1OTDHYHNXKNMDY2YU1NNY2YRWNAH0CQG3MEC' # Foursquare Secret\n\nVERSION = '20180605' # Foursquare API version\nLIMIT = 100 # only return the top 100 venues\n\n# define a function to expore each city in radius of 1000 meters\ndef getNearbyVenues(nborhood, radius=100):\n    \n    venues=pd.DataFrame(columns=['City','Borough','Neighborhood','VenueName','VenueCategory'])\n    for city, borough, neighborhood, lat, lng in zip(nborhood['City'], nborhood['Borough'], nborhood['Neighborhood'], nborhood['Latitude'], nborhood['Longitude']):\n        # create the API request URL\n        url = 'https://api.foursquare.com/v2/venues/explore?&client_id={}&client_secret={}&v={}&ll={},{}&radius={}&limit={}'.format(\n            CLIENT_ID, \n            CLIENT_SECRET, \n            VERSION, \n            lat, \n            lng, \n            radius, \n            LIMIT)\n        \n        # make the GET request\n        results = requests.get(url).json()['response']['groups'][0]['items']\n        \n        # return only relevant information for each nearby venue\n        if results is not None:\n            for v in results:\n                venues = venues.append({'City':city, 'Borough':borough, 'Neighborhood': neighborhood, \n                           'VenueName': v['venue']['name'], \n                           'VenueCategory': v['venue']['categories'][0]['name']},ignore_index=True)\n\n   \n    \n    return(venues)",
            "execution_count": null,
            "outputs": []
        },
        {
            "metadata": {},
            "cell_type": "markdown",
            "source": "# Look at neighborhoods in New York"
        },
        {
            "metadata": {},
            "cell_type": "code",
            "source": "# obtain the nearby venues of each neighborhood in New York\nny_venues = getNearbyVenues(ny_neighborhoods)\nny_venues.head()",
            "execution_count": null,
            "outputs": []
        },
        {
            "metadata": {},
            "cell_type": "markdown",
            "source": " \tCity \tBorough \tNeighborhood \tVenueName \tVenueCategory\n0 \tNew York \tBronx \tFieldston \tEcco Salon \tCosmetics Shop\n1 \tNew York \tBronx \tKingsbridge \tGarden Gourmet Market \tGourmet Shop\n2 \tNew York \tBronx \tKingsbridge \tMyUnique \tThrift / Vintage Store\n3 \tNew York \tBronx \tKingsbridge \tStop & Shop \tSupermarket\n4 \tNew York \tBronx \tKingsbridge \tMattress Firm \tMattress Store"
        },
        {
            "metadata": {},
            "cell_type": "code",
            "source": "#save the data\nny_venues.to_csv('ny_venues.csv', index=False)\nny_venues.shape",
            "execution_count": null,
            "outputs": []
        },
        {
            "metadata": {},
            "cell_type": "code",
            "source": "(795, 5)",
            "execution_count": null,
            "outputs": []
        },
        {
            "metadata": {},
            "cell_type": "code",
            "source": "# rename columns name\nny_venues = ny_venues.rename(columns={'Neighborhood': 'NeighborhoodName'})",
            "execution_count": null,
            "outputs": []
        },
        {
            "metadata": {},
            "cell_type": "code",
            "source": "ny_venues_category_counts = ny_venues[\"VenueCategory\"].value_counts()\nny_venues_category_counts = ny_venues_category_counts.to_frame().rename(columns={\"VenueCategory\":\"NewYork_VenueCategory\"})\nny_venues_category_counts",
            "execution_count": null,
            "outputs": []
        },
        {
            "metadata": {},
            "cell_type": "markdown",
            "source": " \tNewYork_VenueCategory\nPizza Place \t31\nChinese Restaurant \t29\nDeli / Bodega \t27\nCoffee Shop \t25\nItalian Restaurant \t18\nGrocery Store \t16\nBar \t15\nCaf\u00e9 \t14\nIce Cream Shop \t13\nMexican Restaurant \t13\nSandwich Place \t12\nPark \t12\nAmerican Restaurant \t11\nGym \t11\nBagel Shop \t11\nGourmet Shop \t11\nBakery \t11\nBus Stop \t11\nPharmacy \t11\nGym / Fitness Center \t10\nHotel \t10\nDonut Shop \t9\nDiner \t9\nPlayground \t9\nKorean Restaurant \t8\nCosmetics Shop \t8\nFood Truck \t8\nCocktail Bar \t8\nBank \t8\nGreek Restaurant \t8\nVegetarian / Vegan Restaurant \t7\nRestaurant \t7\nThai Restaurant \t7\nArt Gallery \t7\nBurger Joint \t7\nWine Shop \t7\nSushi Restaurant \t7\nBus Station \t7\nWine Bar \t6\nDiscount Store \t6\nJuice Bar \t6\nThrift / Vintage Store \t6\nFast Food Restaurant \t6\nPet Store \t6\nJapanese Restaurant \t6\nBoat or Ferry \t5\nLiquor Store \t5\nSupermarket \t5\nBeach \t5\nAsian Restaurant \t5\nFried Chicken Joint \t5\nHome Service \t4\nArts & Crafts Store \t4\nGift Shop \t4\nConcert Hall \t4\nShipping Store \t4\nPerforming Arts Venue \t4\nNew American Restaurant \t4\nOptical Shop \t4\nMediterranean Restaurant \t4\nIndian Restaurant \t4\nYoga Studio \t4\nToy / Game Store \t4\nFood & Drink Shop \t4\nCaribbean Restaurant \t4\nSpa \t4\nPub \t4\nVietnamese Restaurant \t3\nClothing Store \t3\nDessert Shop \t3\nLatin American Restaurant \t3\nDumpling Restaurant \t3\nDance Studio \t3\nFruit & Vegetable Store \t3\nMovie Theater \t3\nBeer Garden \t3\nSpanish Restaurant \t3\nMobile Phone Shop \t3\nTrain Station \t3\nDepartment Store \t3\nHotel Bar \t3\nTheater \t3\nLounge \t3\nBookstore \t3\nSporting Goods Shop \t3\nHistoric Site \t3\nPier \t2\nMalay Restaurant \t2\nPolish Restaurant \t2\nDog Run \t2\nBubble Tea Shop \t2\nMonument / Landmark \t2\nMusic Venue \t2\nFrozen Yogurt Shop \t2\nSalon / Barbershop \t2\nRoof Deck \t2\nFood \t2\nResidential Building (Apartment / Condo) \t2\nPool \t2\nNail Salon \t2\nSalad Place \t2\nRacetrack \t2\nFood Court \t2\nCheck Cashing Service \t2\nTapas Restaurant \t2\nJewelry Store \t2\nNightclub \t2\nFarmers Market \t2\nNoodle House \t2\nHookah Bar \t2\nTea Room \t2\nCycle Studio \t2\nMiscellaneous Shop \t1\nAccessories Store \t1\nSteakhouse \t1\nArgentinian Restaurant \t1\nSports Bar \t1\nOther Great Outdoors \t1\nTattoo Parlor \t1\nShoe Store \t1\nHimalayan Restaurant \t1\nCupcake Shop \t1\nPilates Studio \t1\nBasketball Court \t1\nSpeakeasy \t1\nSouth American Restaurant \t1\nBoard Shop \t1\nConstruction & Landscaping \t1\nOpera House \t1\nSzechuan Restaurant \t1\nReal Estate Office \t1\nBridal Shop \t1\nMiddle Eastern Restaurant \t1\nBuilding \t1\nSeafood Restaurant \t1\nFrench Restaurant \t1\nFurniture / Home Store \t1\nGastropub \t1\nMuseum \t1\nSmoothie Shop \t1\nCommunity Center \t1\nPlaza \t1\nBBQ Joint \t1\nPiercing Parlor \t1\nHigh School \t1\nShopping Mall \t1\nBike Shop \t1\nHotpot Restaurant \t1\nRock Climbing Spot \t1\nGas Station \t1\nBike Rental / Bike Share \t1\nNeighborhood \t1\nTaco Place \t1\nIndoor Play Area \t1\nPool Hall \t1\nTailor Shop \t1\nGerman Restaurant \t1\nBoxing Gym \t1\nTennis Court \t1\nLingerie Store \t1\nHawaiian Restaurant \t1\nComedy Club \t1\nCaucasian Restaurant \t1\nMusic Store \t1\nLaundry Service \t1\nGay Bar \t1\nLaundromat \t1\nPuerto Rican Restaurant \t1\nShop & Service \t1\nTex-Mex Restaurant \t1\nDoctor's Office \t1\nFish & Chips Shop \t1\nGarden \t1\nFalafel Restaurant \t1\nSouthern / Soul Food Restaurant \t1\nKids Store \t1\nShanghai Restaurant \t1\nVarenyky restaurant \t1\nFilipino Restaurant \t1\nFlower Shop \t1\nArt Museum \t1\nPakistani Restaurant \t1\nDrugstore \t1\nMetro Station \t1\nClimbing Gym \t1\nTrail \t1\nMattress Store \t1\nPoke Place \t1\nVideo Store \t1\nBus Line \t1\nSports Club \t1\nMassage Studio \t1\nCooking School \t1\nAfghan Restaurant \t1\nMoving Target \t1\nBistro \t1\nConvenience Store \t1\nLibrary \t1\nBeer Bar \t1\nBig Box Store \t1\nFarm \t1\nCreperie \t1\nScenic Lookout \t1\nTemple \t1\nBaseball Field \t1\nPaper / Office Supplies Store \t1\nWomen's Store \t1\nCheese Shop \t1\nOutdoor Sculpture \t1"
        },
        {
            "metadata": {},
            "cell_type": "code",
            "source": "#ny_venues_category_counts.index.values",
            "execution_count": null,
            "outputs": []
        },
        {
            "metadata": {},
            "cell_type": "code",
            "source": "Now we have total of 795 venues available in New York.",
            "execution_count": null,
            "outputs": []
        },
        {
            "metadata": {},
            "cell_type": "markdown",
            "source": "# Visualize with WordCloud"
        },
        {
            "metadata": {},
            "cell_type": "code",
            "source": "# import package and its set of stopwords\nfrom wordcloud import WordCloud, STOPWORDS",
            "execution_count": null,
            "outputs": []
        },
        {
            "metadata": {},
            "cell_type": "code",
            "source": "#venues_counts\ndef word_string(venues_category_counts):\n    word_string = ''\n    for i in range(venues_category_counts.shape[0]):\n        repeat_num_times = int(venues_category_counts.iloc[i,0])\n        word_string = word_string + ((venues_category_counts.iloc[i].name + ' ') * repeat_num_times)\n                                     \n    # display the generated text\n    return word_string\n\nny_word_string = word_string(ny_venues_category_counts)\n#ny_word_string",
            "execution_count": null,
            "outputs": []
        },
        {
            "metadata": {},
            "cell_type": "code",
            "source": "# create the word cloud\nwordcloud = WordCloud(background_color='white').generate(ny_word_string)",
            "execution_count": null,
            "outputs": []
        },
        {
            "metadata": {},
            "cell_type": "code",
            "source": "\n\n# display the cloud\nfig = plt.figure()\nfig.set_figwidth(14)\nfig.set_figheight(18)\n\nplt.imshow(wordcloud, interpolation='bilinear')\nplt.axis('off')\nplt.show()\nfig.savefig(\"ny_img.png\")\n\n",
            "execution_count": null,
            "outputs": []
        },
        {
            "metadata": {},
            "cell_type": "code",
            "source": "\n\nAs you see, top 10 neighborhoods in New York is:\n\n    Pizza Place 31\n    Chinese Restaurant 29\n    Deli / Bodega 27\n    Coffee Shop 25\n    Italian Restaurant\n    Grocery Store 16\n    Bar 15\n    Caf\u00e9 14\n    Ice Cream Shop 13\n    Mexican Restaurant 13\n\n",
            "execution_count": null,
            "outputs": []
        },
        {
            "metadata": {},
            "cell_type": "markdown",
            "source": "# Look at neighborhoods in Toronto"
        },
        {
            "metadata": {},
            "cell_type": "code",
            "source": "# repeat on Toronto\ntoronto_venues = getNearbyVenues(toronto_neighborhoods)\ntoronto_venues.head()",
            "execution_count": null,
            "outputs": []
        },
        {
            "metadata": {},
            "cell_type": "markdown",
            "source": " \tCity \tBorough \tNeighborhood \tVenueName \tVenueCategory\n0 \tToronto \tScarborough \tScarborough Village \tMcCowan Park \tPlayground\n1 \tToronto \tScarborough \tSteeles West, L'Amoreaux West \tMr Congee Chinese Cuisine \u9f8d\u7ca5\u8a18 \tChinese Restaurant\n2 \tToronto \tScarborough \tSteeles West, L'Amoreaux West \tSubway \tSandwich Place\n3 \tToronto \tScarborough \tSteeles West, L'Amoreaux West \tKFC \tFast Food Restaurant\n4 \tToronto \tScarborough \tSteeles West, L'Amoreaux West \tTim Hortons \tCoffee Shop"
        },
        {
            "metadata": {},
            "cell_type": "code",
            "source": "#save the data\ntoronto_venues.to_csv('toronto_venues.csv', index=False)\n\n#  to avoid multi-index problem\ntoronto_venues = toronto_venues.rename(columns={'Neighborhood': 'NeighborhoodName'})\ntoronto_venues.shape",
            "execution_count": null,
            "outputs": []
        },
        {
            "metadata": {},
            "cell_type": "code",
            "source": "(141, 5)\n\n",
            "execution_count": null,
            "outputs": []
        },
        {
            "metadata": {},
            "cell_type": "code",
            "source": "toronto_venues_category_counts = toronto_venues[\"VenueCategory\"].value_counts()\ntoronto_venues_category_counts = toronto_venues_category_counts.to_frame().rename(columns={\"VenueCategory\":\"Toronto_VenueCategory\"})\ntoronto_venues_category_counts",
            "execution_count": null,
            "outputs": []
        },
        {
            "metadata": {},
            "cell_type": "markdown",
            "source": " \tToronto_VenueCategory\nCoffee Shop \t17\nCaf\u00e9 \t6\nItalian Restaurant \t6\nJapanese Restaurant \t5\nRestaurant \t5\nSushi Restaurant \t4\nSandwich Place \t4\nBakery \t4\nDeli / Bodega \t4\nGym \t3\nFast Food Restaurant \t3\nBreakfast Spot \t3\nDessert Shop \t3\nBar \t2\nConcert Hall \t2\nSeafood Restaurant \t2\nBurger Joint \t2\nLiquor Store \t2\nCupcake Shop \t2\nSalad Place \t2\nPark \t2\nPharmacy \t2\nArt Gallery \t2\nPub \t2\nBuilding \t1\nHot Dog Joint \t1\nSchool \t1\nBurrito Place \t1\nAmerican Restaurant \t1\nTea Room \t1\nGift Shop \t1\nVegetarian / Vegan Restaurant \t1\nPlayground \t1\nToy / Game Store \t1\nTrail \t1\nSupermarket \t1\nGarden \t1\nSpa \t1\nThai Restaurant \t1\nCocktail Bar \t1\nElectronics Store \t1\nHotel \t1\nBank \t1\nBrewery \t1\nMiddle Eastern Restaurant \t1\nGrocery Store \t1\nHousing Development \t1\nFried Chicken Joint \t1\nGay Bar \t1\nChinese Restaurant \t1\nAsian Restaurant \t1\nBeer Store \t1\nBoutique \t1\nTaco Place \t1\nGastropub \t1\nFarmers Market \t1\nGluten-free Restaurant \t1\nFood Court \t1\nSoup Place \t1\nPool \t1\nIndian Restaurant \t1\nPerforming Arts Venue \t1\nCollege Gym \t1\nYoga Studio \t1\nDiner \t1\nRecord Shop \t1\nGreek Restaurant \t1\nFurniture / Home Store \t1\nCosmetics Shop \t1\nRoof Deck \t1\nClothing Store \t1\nGym / Fitness Center \t1\nDance Studio \t1\nTheater \t1\nThrift / Vintage Store \t1\nBookstore \t1"
        },
        {
            "metadata": {},
            "cell_type": "code",
            "source": "#toronto_word_string\ntoronto_word_string = word_string(toronto_venues_category_counts)\n# create the word cloud\ntoronto_wordcloud = WordCloud(background_color='white').generate(toronto_word_string)\n# display the cloud\nfig = plt.figure()\nfig.set_figwidth(14)\nfig.set_figheight(18)\n\nplt.imshow(toronto_wordcloud, interpolation='bilinear')\nplt.axis('off')\nplt.show()\nfig.savefig(\"toronto_img.png\")",
            "execution_count": null,
            "outputs": []
        },
        {
            "metadata": {},
            "cell_type": "code",
            "source": "\nTop 10 neighborhoods in Toronto:\n\n    Coffee Shop 17\n    Caf\u00e9 6\n    Italian Restaurant 6\n    Japanese Restaurant 5\n    Restaurant 5\n    Sushi Restaurant 4\n    Sandwich Place 4\n    Bakery 4\n    Deli / Bodega 4\n    Gym 3\n\n",
            "execution_count": null,
            "outputs": []
        },
        {
            "metadata": {},
            "cell_type": "markdown",
            "source": "# Look at neighborhoods in Tokyo"
        },
        {
            "metadata": {},
            "cell_type": "code",
            "source": "# repeat on tokyo\ntokyo_venues = getNearbyVenues(tk_neighborhoods)\ntokyo_venues.head()",
            "execution_count": null,
            "outputs": []
        },
        {
            "metadata": {},
            "cell_type": "markdown",
            "source": " \tCity \tBorough \tNeighborhood \tVenueName \tVenueCategory\n0 \tTokyo \tChiyoda \tNagatacho \tTully's Coffee \tCoffee Shop\n1 \tTokyo \tChiyoda \tNagatacho \tTully's Coffee \tCoffee Shop\n2 \tTokyo \tChiyoda \tNagatacho \t7-Eleven (\u30bb\u30d6\u30f3\u30a4\u30ec\u30d6\u30f3) \tConvenience Store\n3 \tTokyo \tChiyoda \tNagatacho \tYoshinoya (\u5409\u91ce\u5bb6) \tDonburi Restaurant\n4 \tTokyo \tChiyoda \tNagatacho \t\u4e00\u8336\u305d\u3070 \tJapanese Restaurant"
        },
        {
            "metadata": {},
            "cell_type": "code",
            "source": "#save the data\ntokyo_venues.to_csv('tokyo_venues.csv', index=False)\n\n#  to avoid multi-index problem\ntokyo_venues = tokyo_venues.rename(columns={'Neighborhood': 'NeighborhoodName'})\ntokyo_venues.shape",
            "execution_count": null,
            "outputs": []
        },
        {
            "metadata": {},
            "cell_type": "code",
            "source": "(1120, 5)",
            "execution_count": null,
            "outputs": []
        },
        {
            "metadata": {},
            "cell_type": "code",
            "source": "tokyo_venues_category_counts = tokyo_venues[\"VenueCategory\"].value_counts()\ntokyo_venues_category_counts = tokyo_venues_category_counts.to_frame().rename(columns={\"VenueCategory\":\"Tokyo_VenueCategory\"})\ntokyo_venues_category_counts",
            "execution_count": null,
            "outputs": []
        },
        {
            "metadata": {},
            "cell_type": "markdown",
            "source": " \tTokyo_VenueCategory\nConvenience Store \t86\nCoffee Shop \t76\nSake Bar \t63\nCaf\u00e9 \t51\nRamen Restaurant \t49\nJapanese Restaurant \t41\nChinese Restaurant \t27\nItalian Restaurant \t27\nSoba Restaurant \t24\nDonburi Restaurant \t22\nBBQ Joint \t20\nFast Food Restaurant \t20\nTrain Station \t20\nBakery \t18\nSteakhouse \t16\nSushi Restaurant \t15\nSupermarket \t15\nDessert Shop \t15\nShopping Mall \t14\nBookstore \t12\nIce Cream Shop \t12\nTonkatsu Restaurant \t12\nBar \t11\nYoshoku Restaurant \t11\nClothing Store \t11\nATM \t10\nBus Stop \t10\nDrugstore \t10\nDiscount Store \t10\nUdon Restaurant \t10\nPark \t10\nNoodle House \t9\nPlatform \t9\nSeafood Restaurant \t9\nIndian Restaurant \t8\nBeer Bar \t8\nPharmacy \t8\nFrench Restaurant \t8\nArcade \t7\nTempura Restaurant \t7\nFried Chicken Joint \t7\nJapanese Curry Restaurant \t7\nTeishoku Restaurant \t7\nSandwich Place \t7\nTea Room \t6\nRestaurant \t6\nGrocery Store \t6\nHotel \t6\nThai Restaurant \t6\nTakoyaki Place \t6\nYakitori Restaurant \t6\nDumpling Restaurant \t6\nBurger Joint \t5\nJapanese Family Restaurant \t5\nBistro \t5\nKorean Restaurant \t5\nPlaza \t4\nCosmetics Shop \t4\nOutdoor Sculpture \t4\nMetro Station \t4\nWagashi Place \t4\nAmerican Restaurant \t4\nTheater \t4\nDeli / Bodega \t4\nUnagi Restaurant \t4\nFurniture / Home Store \t4\nPlayground \t3\nSpa \t3\nBed & Breakfast \t3\nShabu-Shabu Restaurant \t3\nHistoric Site \t3\nJuice Bar \t3\nArt Gallery \t3\nElectronics Store \t3\nWine Bar \t3\nFlower Shop \t3\nPub \t3\nBubble Tea Shop \t3\nGift Shop \t3\nSzechuan Restaurant \t3\nDonut Shop \t3\nPastry Shop \t2\nHobby Shop \t2\nAthletics & Sports \t2\nDim Sum Restaurant \t2\nHookah Bar \t2\nPizza Place \t2\nMovie Theater \t2\nCocktail Bar \t2\nMuseum \t2\nBrazilian Restaurant \t2\nSporting Goods Shop \t2\nKushikatsu Restaurant \t2\nTaxi Stand \t2\nGym \t2\nGym / Fitness Center \t2\nRock Club \t2\nIntersection \t2\nSingaporean Restaurant \t2\nVietnamese Restaurant \t2\nBoutique \t2\nHistory Museum \t2\nRecord Shop \t2\nFishing Spot \t2\nTourist Information Center \t2\nStationery Store \t2\nComedy Club \t2\nSoup Place \t2\nFood & Drink Shop \t1\nRoof Deck \t1\nPerforming Arts Venue \t1\nPet Caf\u00e9 \t1\nCantonese Restaurant \t1\nWine Shop \t1\nBath House \t1\nScenic Lookout \t1\nSports Bar \t1\nLight Rail Station \t1\nTrack \t1\nDepartment Store \t1\nToy / Game Store \t1\nGastropub \t1\nArt Museum \t1\nFalafel Restaurant \t1\nAsian Restaurant \t1\nSri Lankan Restaurant \t1\nCreperie \t1\nLuggage Store \t1\nUsed Bookstore \t1\nNabe Restaurant \t1\nNightclub \t1\nHotel Bar \t1\nPool \t1\nConcert Hall \t1\nArts & Crafts Store \t1\nNorth Indian Restaurant \t1\nBagel Shop \t1\nGarden \t1\nKebab Restaurant \t1\nFarmers Market \t1\nHong Kong Restaurant \t1\nTapas Restaurant \t1\nIndie Theater \t1\nOkonomiyaki Restaurant \t1\nChocolate Shop \t1\nComic Shop \t1\nMultiplex \t1\nLiquor Store \t1\nPublic Art \t1\nCandy Store \t1\nEvent Space \t1\nJazz Club \t1\nGelato Shop \t1\nGerman Restaurant \t1\nPachinko Parlor \t1\nSouth Indian Restaurant \t1\nMexican Restaurant \t1\nVegetarian / Vegan Restaurant \t1\nOutdoors & Recreation \t1\nBrewery \t1\nIrish Pub \t1\nPublic Bathroom \t1\nStreet Art \t1\nMusic Store \t1\nCycle Studio \t1\nGourmet Shop \t1\nMobile Phone Shop \t1\nFood Truck \t1\nAcai House \t1\nAustralian Restaurant \t1\nDiner \t1\nSoccer Field \t1"
        },
        {
            "metadata": {},
            "cell_type": "code",
            "source": "#tokyo_word_string\ntokyo_word_string = word_string(tokyo_venues_category_counts)\n# create the word cloud\ntokyo_wordcloud = WordCloud(background_color='white').generate(tokyo_word_string)\n# display the cloud\nfig = plt.figure()\nfig.set_figwidth(14)\nfig.set_figheight(18)\n\nplt.imshow(tokyo_wordcloud, interpolation='bilinear')\nplt.axis('off')\nplt.show()\nfig.savefig(\"tokyo_img.png\")\n\n",
            "execution_count": null,
            "outputs": []
        },
        {
            "metadata": {},
            "cell_type": "code",
            "source": "\n\nTop 10 neighborhoods in Tokyo:\n\n    Convenience Store 86\n    Coffee Shop 76\n    Sake Bar 63\n    Caf\u00e9 51\n    Ramen Restaurant 49\n    Japanese Restaurant 41\n    Chinese Restaurant 27\n    Italian Restaurant 27\n    Soba Restaurant 24\n    Donburi Restaurant 22\n\n",
            "execution_count": null,
            "outputs": []
        },
        {
            "metadata": {},
            "cell_type": "markdown",
            "source": "# Now let's combine all the data into a Dataframe\n"
        },
        {
            "metadata": {},
            "cell_type": "raw",
            "source": "# use machine learning model for clustering"
        },
        {
            "metadata": {},
            "cell_type": "code",
            "source": "#combine venues \nallvenues =  pd.concat([ny_venues,toronto_venues,tokyo_venues])\nallvenues = allvenues.rename(columns={'Neighborhood': 'NeighborhoodName'})\nallvenues.shape",
            "execution_count": null,
            "outputs": []
        },
        {
            "metadata": {},
            "cell_type": "code",
            "source": "\n\n(2056, 5)\n\n",
            "execution_count": null,
            "outputs": []
        },
        {
            "metadata": {},
            "cell_type": "code",
            "source": "allvenues.head()",
            "execution_count": null,
            "outputs": []
        },
        {
            "metadata": {},
            "cell_type": "markdown",
            "source": " \tCity \tBorough \tNeighborhoodName \tVenueName \tVenueCategory\n0 \tNew York \tBronx \tFieldston \tEcco Salon \tCosmetics Shop\n1 \tNew York \tBronx \tKingsbridge \tGarden Gourmet Market \tGourmet Shop\n2 \tNew York \tBronx \tKingsbridge \tMyUnique \tThrift / Vintage Store\n3 \tNew York \tBronx \tKingsbridge \tStop & Shop \tSupermarket\n4 \tNew York \tBronx \tKingsbridge \tMattress Firm \tMattress Store"
        },
        {
            "metadata": {},
            "cell_type": "markdown",
            "source": "# Group the venues depends on their categories, Calculate the total venues of category\n"
        },
        {
            "metadata": {},
            "cell_type": "code",
            "source": "\n\n# get dummies\nallvenues_onehot = pd.get_dummies(allvenues, columns = ['VenueCategory'], prefix=\"\", prefix_sep=\"\")\nallvenues_onehot = allvenues_onehot.drop('VenueName',axis = 1)\n#allvenues_onehot.columns.values\n\n",
            "execution_count": null,
            "outputs": []
        },
        {
            "metadata": {},
            "cell_type": "code",
            "source": "##group the venues based on Neighborhoods\nallvenues_grouped = allvenues_onehot.groupby('NeighborhoodName',axis = 0).sum().reset_index()\nallvenues_grouped = allneighborhoods.join(allvenues_grouped.set_index('NeighborhoodName'), on='NeighborhoodName')\n\n#drop the rows with NaN (no venues information)\nallvenues_grouped.dropna(inplace=True)\nallvenues_grouped.head()",
            "execution_count": null,
            "outputs": []
        },
        {
            "metadata": {},
            "cell_type": "code",
            "source": " \tCity \tBorough \tNeighborhoodName \tLatitude \tLongitude \tATM \tAcai House \tAccessories Store \tAfghan Restaurant \tAmerican Restaurant \tArcade \tArgentinian Restaurant \tArt Gallery \tArt Museum \tArts & Crafts Store \tAsian Restaurant \tAthletics & Sports \tAustralian Restaurant \tBBQ Joint \tBagel Shop \tBakery \tBank \tBar \tBaseball Field \tBasketball Court \tBath House \tBeach \tBed & Breakfast \tBeer Bar \tBeer Garden \tBeer Store \tBig Box Store \tBike Rental / Bike Share \tBike Shop \tBistro \tBoard Shop \tBoat or Ferry \tBookstore \tBoutique \tBoxing Gym \tBrazilian Restaurant \tBreakfast Spot \tBrewery \tBridal Shop \tBubble Tea Shop \tBuilding \tBurger Joint \tBurrito Place \tBus Line \tBus Station \tBus Stop \tCaf\u00e9 \tCandy Store \tCantonese Restaurant \tCaribbean Restaurant \tCaucasian Restaurant \tCheck Cashing Service \tCheese Shop \tChinese Restaurant \tChocolate Shop \tClimbing Gym \tClothing Store \tCocktail Bar \tCoffee Shop \tCollege Gym \tComedy Club \tComic Shop \tCommunity Center \tConcert Hall \tConstruction & Landscaping \tConvenience Store \tCooking School \tCosmetics Shop \tCreperie \tCupcake Shop \tCycle Studio \tDance Studio \tDeli / Bodega \tDepartment Store \tDessert Shop \tDim Sum Restaurant \tDiner \tDiscount Store \tDoctor's Office \tDog Run \tDonburi Restaurant \tDonut Shop \tDrugstore \tDumpling Restaurant \tElectronics Store \tEvent Space \tFalafel Restaurant \tFarm \tFarmers Market \tFast Food Restaurant \tFilipino Restaurant \tFish & Chips Shop \tFishing Spot \tFlower Shop \tFood \tFood & Drink Shop \tFood Court \tFood Truck \tFrench Restaurant \tFried Chicken Joint \tFrozen Yogurt Shop \tFruit & Vegetable Store \tFurniture / Home Store \tGarden \tGas Station \tGastropub \tGay Bar \tGelato Shop \tGerman Restaurant \tGift Shop \tGluten-free Restaurant \tGourmet Shop \tGreek Restaurant \tGrocery Store \tGym \tGym / Fitness Center \tHawaiian Restaurant \tHigh School \tHimalayan Restaurant \tHistoric Site \tHistory Museum \tHobby Shop \tHome Service \tHong Kong Restaurant \tHookah Bar \tHot Dog Joint \tHotel \tHotel Bar \tHotpot Restaurant \tHousing Development \tIce Cream Shop \tIndian Restaurant \tIndie Theater \tIndoor Play Area \tIntersection \tIrish Pub \tItalian Restaurant \tJapanese Curry Restaurant \tJapanese Family Restaurant \tJapanese Restaurant \tJazz Club \tJewelry Store \tJuice Bar \tKebab Restaurant \tKids Store \tKorean Restaurant \tKushikatsu Restaurant \tLatin American Restaurant \tLaundromat \tLaundry Service \tLibrary \tLight Rail Station \tLingerie Store \tLiquor Store \tLounge \tLuggage Store \tMalay Restaurant \tMassage Studio \tMattress Store \tMediterranean Restaurant \tMetro Station \tMexican Restaurant \tMiddle Eastern Restaurant \tMiscellaneous Shop \tMobile Phone Shop \tMonument / Landmark \tMovie Theater \tMoving Target \tMultiplex \tMuseum \tMusic Store \tMusic Venue \tNabe Restaurant \tNail Salon \tNeighborhood \tNew American Restaurant \tNightclub \tNoodle House \tNorth Indian Restaurant \tOkonomiyaki Restaurant \tOpera House \tOptical Shop \tOther Great Outdoors \tOutdoor Sculpture \tOutdoors & Recreation \tPachinko Parlor \tPakistani Restaurant \tPaper / Office Supplies Store \tPark \tPastry Shop \tPerforming Arts Venue \tPet Caf\u00e9 \tPet Store \tPharmacy \tPier \tPiercing Parlor \tPilates Studio \tPizza Place \tPlatform \tPlayground \tPlaza \tPoke Place \tPolish Restaurant \tPool \tPool Hall \tPub \tPublic Art \tPublic Bathroom \tPuerto Rican Restaurant \tRacetrack \tRamen Restaurant \tReal Estate Office \tRecord Shop \tResidential Building (Apartment / Condo) \tRestaurant \tRock Climbing Spot \tRock Club \tRoof Deck \tSake Bar \tSalad Place \tSalon / Barbershop \tSandwich Place \tScenic Lookout \tSchool \tSeafood Restaurant \tShabu-Shabu Restaurant \tShanghai Restaurant \tShipping Store \tShoe Store \tShop & Service \tShopping Mall \tSingaporean Restaurant \tSmoothie Shop \tSoba Restaurant \tSoccer Field \tSoup Place \tSouth American Restaurant \tSouth Indian Restaurant \tSouthern / Soul Food Restaurant \tSpa \tSpanish Restaurant \tSpeakeasy \tSporting Goods Shop \tSports Bar \tSports Club \tSri Lankan Restaurant \tStationery Store \tSteakhouse \tStreet Art \tSupermarket \tSushi Restaurant \tSzechuan Restaurant \tTaco Place \tTailor Shop \tTakoyaki Place \tTapas Restaurant \tTattoo Parlor \tTaxi Stand \tTea Room \tTeishoku Restaurant \tTemple \tTempura Restaurant \tTennis Court \tTex-Mex Restaurant \tThai Restaurant \tTheater \tThrift / Vintage Store \tTonkatsu Restaurant \tTourist Information Center \tToy / Game Store \tTrack \tTrail \tTrain Station \tUdon Restaurant \tUnagi Restaurant \tUsed Bookstore \tVarenyky restaurant \tVegetarian / Vegan Restaurant \tVideo Store \tVietnamese Restaurant \tWagashi Place \tWine Bar \tWine Shop \tWomen's Store \tYakitori Restaurant \tYoga Studio \tYoshoku Restaurant\n3 \tNew York \tBronx \tFieldston \t40.895437 \t-73.905643 \t0.0 \t0.0 \t0.0 \t0.0 \t0.0 \t0.0 \t0.0 \t0.0 \t0.0 \t0.0 \t0.0 \t0.0 \t0.0 \t0.0 \t0.0 \t0.0 \t0.0 \t0.0 \t0.0 \t0.0 \t0.0 \t0.0 \t0.0 \t0.0 \t0.0 \t0.0 \t0.0 \t0.0 \t0.0 \t0.0 \t0.0 \t0.0 \t0.0 \t0.0 \t0.0 \t0.0 \t0.0 \t0.0 \t0.0 \t0.0 \t0.0 \t0.0 \t0.0 \t0.0 \t0.0 \t0.0 \t0.0 \t0.0 \t0.0 \t0.0 \t0.0 \t0.0 \t0.0 \t0.0 \t0.0 \t0.0 \t0.0 \t0.0 \t0.0 \t0.0 \t0.0 \t0.0 \t0.0 \t0.0 \t0.0 \t0.0 \t0.0 \t1.0 \t0.0 \t0.0 \t0.0 \t0.0 \t0.0 \t0.0 \t0.0 \t0.0 \t0.0 \t0.0 \t0.0 \t0.0 \t0.0 \t0.0 \t0.0 \t0.0 \t0.0 \t0.0 \t0.0 \t0.0 \t0.0 \t0.0 \t0.0 \t0.0 \t0.0 \t0.0 \t0.0 \t0.0 \t0.0 \t0.0 \t0.0 \t0.0 \t0.0 \t0.0 \t0.0 \t0.0 \t0.0 \t0.0 \t0.0 \t0.0 \t0.0 \t0.0 \t0.0 \t0.0 \t0.0 \t0.0 \t0.0 \t0.0 \t0.0 \t0.0 \t0.0 \t0.0 \t0.0 \t0.0 \t0.0 \t0.0 \t0.0 \t0.0 \t0.0 \t0.0 \t0.0 \t0.0 \t0.0 \t0.0 \t0.0 \t0.0 \t0.0 \t0.0 \t0.0 \t0.0 \t0.0 \t0.0 \t0.0 \t0.0 \t0.0 \t0.0 \t0.0 \t0.0 \t0.0 \t0.0 \t0.0 \t0.0 \t0.0 \t0.0 \t0.0 \t0.0 \t0.0 \t0.0 \t0.0 \t0.0 \t0.0 \t0.0 \t0.0 \t0.0 \t0.0 \t0.0 \t0.0 \t0.0 \t0.0 \t0.0 \t0.0 \t0.0 \t0.0 \t0.0 \t0.0 \t0.0 \t0.0 \t0.0 \t0.0 \t0.0 \t0.0 \t0.0 \t0.0 \t0.0 \t0.0 \t0.0 \t0.0 \t0.0 \t0.0 \t0.0 \t0.0 \t0.0 \t0.0 \t0.0 \t0.0 \t0.0 \t0.0 \t0.0 \t0.0 \t0.0 \t0.0 \t0.0 \t0.0 \t0.0 \t0.0 \t0.0 \t0.0 \t0.0 \t0.0 \t0.0 \t0.0 \t0.0 \t0.0 \t0.0 \t0.0 \t0.0 \t0.0 \t0.0 \t0.0 \t0.0 \t0.0 \t0.0 \t0.0 \t0.0 \t0.0 \t0.0 \t0.0 \t0.0 \t0.0 \t0.0 \t0.0 \t0.0 \t0.0 \t0.0 \t0.0 \t0.0 \t0.0 \t0.0 \t0.0 \t0.0 \t0.0 \t0.0 \t0.0 \t0.0 \t0.0 \t0.0 \t0.0 \t0.0 \t0.0 \t0.0 \t0.0 \t0.0 \t0.0 \t0.0 \t0.0 \t0.0 \t0.0 \t0.0 \t0.0 \t0.0 \t0.0 \t0.0 \t0.0 \t0.0 \t0.0 \t0.0 \t0.0 \t0.0 \t0.0 \t0.0 \t0.0 \t0.0 \t0.0 \t0.0 \t0.0 \t0.0 \t0.0 \t0.0 \t0.0 \t0.0 \t0.0 \t0.0 \t0.0 \t0.0 \t0.0 \t0.0 \t0.0 \t0.0 \t0.0\n5 \tNew York \tBronx \tKingsbridge \t40.881687 \t-73.902818 \t0.0 \t0.0 \t0.0 \t0.0 \t0.0 \t0.0 \t0.0 \t0.0 \t0.0 \t0.0 \t0.0 \t0.0 \t0.0 \t0.0 \t0.0 \t0.0 \t0.0 \t0.0 \t0.0 \t0.0 \t0.0 \t0.0 \t0.0 \t0.0 \t0.0 \t0.0 \t0.0 \t0.0 \t0.0 \t0.0 \t0.0 \t0.0 \t0.0 \t0.0 \t0.0 \t0.0 \t0.0 \t0.0 \t0.0 \t0.0 \t0.0 \t0.0 \t0.0 \t0.0 \t0.0 \t0.0 \t0.0 \t0.0 \t0.0 \t0.0 \t0.0 \t0.0 \t0.0 \t0.0 \t0.0 \t0.0 \t0.0 \t0.0 \t0.0 \t0.0 \t0.0 \t0.0 \t0.0 \t0.0 \t0.0 \t0.0 \t0.0 \t0.0 \t0.0 \t0.0 \t0.0 \t0.0 \t0.0 \t0.0 \t0.0 \t0.0 \t0.0 \t0.0 \t0.0 \t0.0 \t0.0 \t0.0 \t0.0 \t0.0 \t0.0 \t0.0 \t0.0 \t0.0 \t0.0 \t0.0 \t0.0 \t0.0 \t0.0 \t0.0 \t0.0 \t0.0 \t0.0 \t0.0 \t0.0 \t0.0 \t0.0 \t0.0 \t0.0 \t0.0 \t0.0 \t0.0 \t0.0 \t0.0 \t0.0 \t0.0 \t0.0 \t1.0 \t0.0 \t0.0 \t0.0 \t0.0 \t0.0 \t0.0 \t0.0 \t0.0 \t0.0 \t0.0 \t0.0 \t0.0 \t0.0 \t0.0 \t0.0 \t0.0 \t0.0 \t0.0 \t0.0 \t0.0 \t0.0 \t0.0 \t0.0 \t0.0 \t0.0 \t0.0 \t0.0 \t0.0 \t0.0 \t0.0 \t0.0 \t0.0 \t0.0 \t0.0 \t0.0 \t0.0 \t0.0 \t0.0 \t0.0 \t0.0 \t0.0 \t0.0 \t0.0 \t0.0 \t0.0 \t0.0 \t1.0 \t0.0 \t0.0 \t0.0 \t0.0 \t0.0 \t0.0 \t0.0 \t0.0 \t0.0 \t0.0 \t0.0 \t0.0 \t0.0 \t0.0 \t0.0 \t0.0 \t0.0 \t0.0 \t0.0 \t0.0 \t0.0 \t0.0 \t0.0 \t0.0 \t0.0 \t0.0 \t0.0 \t0.0 \t0.0 \t0.0 \t0.0 \t0.0 \t0.0 \t0.0 \t0.0 \t0.0 \t0.0 \t0.0 \t0.0 \t0.0 \t0.0 \t0.0 \t0.0 \t0.0 \t0.0 \t0.0 \t0.0 \t0.0 \t0.0 \t0.0 \t0.0 \t0.0 \t0.0 \t0.0 \t0.0 \t0.0 \t0.0 \t0.0 \t0.0 \t0.0 \t0.0 \t0.0 \t0.0 \t0.0 \t0.0 \t0.0 \t0.0 \t0.0 \t0.0 \t0.0 \t0.0 \t0.0 \t0.0 \t0.0 \t0.0 \t0.0 \t0.0 \t0.0 \t0.0 \t0.0 \t0.0 \t0.0 \t0.0 \t0.0 \t0.0 \t0.0 \t0.0 \t0.0 \t0.0 \t0.0 \t1.0 \t0.0 \t0.0 \t0.0 \t0.0 \t0.0 \t0.0 \t0.0 \t0.0 \t0.0 \t0.0 \t0.0 \t0.0 \t0.0 \t0.0 \t0.0 \t0.0 \t1.0 \t0.0 \t0.0 \t0.0 \t0.0 \t0.0 \t0.0 \t0.0 \t0.0 \t0.0 \t0.0 \t0.0 \t0.0 \t0.0 \t0.0 \t0.0 \t0.0 \t0.0 \t0.0 \t0.0 \t0.0\n7 \tNew York \tBronx \tWoodlawn \t40.898273 \t-73.867315 \t0.0 \t0.0 \t0.0 \t0.0 \t0.0 \t0.0 \t0.0 \t0.0 \t0.0 \t0.0 \t0.0 \t0.0 \t0.0 \t0.0 \t0.0 \t0.0 \t0.0 \t1.0 \t0.0 \t0.0 \t0.0 \t0.0 \t0.0 \t0.0 \t0.0 \t0.0 \t0.0 \t0.0 \t0.0 \t0.0 \t0.0 \t0.0 \t0.0 \t0.0 \t0.0 \t0.0 \t0.0 \t0.0 \t0.0 \t0.0 \t0.0 \t0.0 \t0.0 \t0.0 \t0.0 \t0.0 \t0.0 \t0.0 \t0.0 \t0.0 \t0.0 \t0.0 \t0.0 \t0.0 \t0.0 \t0.0 \t0.0 \t0.0 \t0.0 \t0.0 \t0.0 \t0.0 \t0.0 \t0.0 \t0.0 \t0.0 \t0.0 \t0.0 \t0.0 \t0.0 \t0.0 \t0.0 \t2.0 \t0.0 \t0.0 \t0.0 \t0.0 \t0.0 \t0.0 \t0.0 \t0.0 \t0.0 \t0.0 \t0.0 \t0.0 \t0.0 \t0.0 \t0.0 \t0.0 \t0.0 \t0.0 \t0.0 \t0.0 \t0.0 \t0.0 \t0.0 \t0.0 \t0.0 \t0.0 \t0.0 \t0.0 \t0.0 \t0.0 \t0.0 \t0.0 \t0.0 \t0.0 \t0.0 \t0.0 \t0.0 \t0.0 \t0.0 \t0.0 \t1.0 \t0.0 \t0.0 \t0.0 \t0.0 \t0.0 \t0.0 \t0.0 \t0.0 \t0.0 \t0.0 \t0.0 \t0.0 \t0.0 \t0.0 \t0.0 \t0.0 \t0.0 \t1.0 \t0.0 \t0.0 \t0.0 \t0.0 \t0.0 \t0.0 \t0.0 \t0.0 \t0.0 \t0.0 \t0.0 \t0.0 \t0.0 \t0.0 \t0.0 \t0.0 \t0.0 \t0.0 \t0.0 \t0.0 \t0.0 \t0.0 \t0.0 \t0.0 \t0.0 \t0.0 \t0.0 \t0.0 \t0.0 \t0.0 \t0.0 \t0.0 \t0.0 \t0.0 \t0.0 \t0.0 \t0.0 \t0.0 \t0.0 \t0.0 \t0.0 \t0.0 \t0.0 \t0.0 \t0.0 \t0.0 \t0.0 \t0.0 \t0.0 \t0.0 \t0.0 \t0.0 \t0.0 \t0.0 \t0.0 \t0.0 \t0.0 \t0.0 \t0.0 \t0.0 \t0.0 \t0.0 \t0.0 \t0.0 \t0.0 \t1.0 \t0.0 \t0.0 \t0.0 \t0.0 \t0.0 \t0.0 \t0.0 \t3.0 \t0.0 \t0.0 \t0.0 \t0.0 \t0.0 \t0.0 \t0.0 \t0.0 \t0.0 \t0.0 \t0.0 \t0.0 \t0.0 \t0.0 \t0.0 \t0.0 \t0.0 \t0.0 \t0.0 \t0.0 \t0.0 \t0.0 \t0.0 \t0.0 \t0.0 \t0.0 \t0.0 \t0.0 \t0.0 \t0.0 \t0.0 \t0.0 \t0.0 \t0.0 \t0.0 \t0.0 \t0.0 \t0.0 \t0.0 \t0.0 \t0.0 \t0.0 \t0.0 \t0.0 \t0.0 \t0.0 \t0.0 \t0.0 \t0.0 \t0.0 \t0.0 \t0.0 \t0.0 \t0.0 \t0.0 \t0.0 \t0.0 \t0.0 \t0.0 \t0.0 \t0.0 \t0.0 \t0.0 \t0.0 \t0.0 \t0.0 \t0.0 \t0.0 \t0.0 \t0.0 \t0.0 \t0.0 \t0.0 \t0.0 \t0.0 \t0.0 \t0.0 \t0.0 \t0.0 \t0.0 \t0.0\n8 \tNew York \tBronx \tNorwood \t40.877224 \t-73.879391 \t0.0 \t0.0 \t0.0 \t0.0 \t0.0 \t0.0 \t0.0 \t0.0 \t0.0 \t0.0 \t0.0 \t0.0 \t0.0 \t0.0 \t0.0 \t0.0 \t0.0 \t0.0 \t0.0 \t0.0 \t0.0 \t0.0 \t0.0 \t0.0 \t0.0 \t0.0 \t0.0 \t0.0 \t0.0 \t0.0 \t0.0 \t0.0 \t0.0 \t0.0 \t0.0 \t0.0 \t0.0 \t0.0 \t0.0 \t0.0 \t0.0 \t0.0 \t0.0 \t0.0 \t0.0 \t0.0 \t0.0 \t0.0 \t0.0 \t0.0 \t0.0 \t0.0 \t0.0 \t0.0 \t0.0 \t0.0 \t0.0 \t0.0 \t0.0 \t0.0 \t0.0 \t0.0 \t0.0 \t0.0 \t0.0 \t0.0 \t0.0 \t0.0 \t0.0 \t0.0 \t0.0 \t0.0 \t0.0 \t0.0 \t0.0 \t0.0 \t0.0 \t0.0 \t0.0 \t0.0 \t0.0 \t0.0 \t0.0 \t0.0 \t0.0 \t0.0 \t0.0 \t0.0 \t0.0 \t0.0 \t0.0 \t0.0 \t0.0 \t0.0 \t0.0 \t0.0 \t0.0 \t0.0 \t0.0 \t0.0 \t0.0 \t0.0 \t0.0 \t0.0 \t0.0 \t0.0 \t0.0 \t0.0 \t0.0 \t0.0 \t0.0 \t0.0 \t0.0 \t0.0 \t0.0 \t0.0 \t0.0 \t0.0 \t0.0 \t0.0 \t0.0 \t0.0 \t0.0 \t0.0 \t0.0 \t0.0 \t0.0 \t0.0 \t0.0 \t0.0 \t0.0 \t0.0 \t0.0 \t0.0 \t0.0 \t0.0 \t0.0 \t0.0 \t0.0 \t0.0 \t0.0 \t0.0 \t0.0 \t0.0 \t0.0 \t0.0 \t0.0 \t0.0 \t0.0 \t0.0 \t0.0 \t0.0 \t0.0 \t0.0 \t0.0 \t0.0 \t0.0 \t0.0 \t0.0 \t0.0 \t0.0 \t1.0 \t0.0 \t0.0 \t0.0 \t0.0 \t0.0 \t0.0 \t0.0 \t0.0 \t0.0 \t0.0 \t0.0 \t0.0 \t0.0 \t0.0 \t0.0 \t0.0 \t0.0 \t0.0 \t0.0 \t0.0 \t0.0 \t0.0 \t0.0 \t0.0 \t0.0 \t0.0 \t0.0 \t0.0 \t0.0 \t0.0 \t0.0 \t0.0 \t0.0 \t0.0 \t0.0 \t0.0 \t0.0 \t0.0 \t0.0 \t0.0 \t0.0 \t0.0 \t0.0 \t0.0 \t0.0 \t0.0 \t0.0 \t0.0 \t0.0 \t0.0 \t0.0 \t0.0 \t0.0 \t0.0 \t0.0 \t0.0 \t0.0 \t0.0 \t0.0 \t0.0 \t0.0 \t0.0 \t0.0 \t0.0 \t0.0 \t0.0 \t0.0 \t0.0 \t0.0 \t0.0 \t0.0 \t0.0 \t0.0 \t0.0 \t0.0 \t0.0 \t0.0 \t0.0 \t0.0 \t0.0 \t0.0 \t0.0 \t0.0 \t0.0 \t0.0 \t0.0 \t0.0 \t0.0 \t0.0 \t0.0 \t0.0 \t0.0 \t0.0 \t0.0 \t0.0 \t0.0 \t0.0 \t0.0 \t0.0 \t0.0 \t0.0 \t0.0 \t0.0 \t0.0 \t0.0 \t0.0 \t0.0 \t0.0 \t0.0 \t0.0 \t0.0 \t0.0 \t0.0 \t0.0 \t0.0 \t0.0 \t0.0 \t0.0 \t0.0 \t0.0 \t0.0 \t0.0 \t0.0 \t0.0 \t0.0\n12 \tNew York \tBronx \tCity Island \t40.847247 \t-73.786488 \t0.0 \t0.0 \t0.0 \t0.0 \t1.0 \t0.0 \t0.0 \t0.0 \t0.0",
            "execution_count": null,
            "outputs": []
        },
        {
            "metadata": {},
            "cell_type": "code",
            "source": "# create a new dataframe with most common venue catrgories\ndef return_most_common_venues(row, num_top_venues):\n    row_categories = row\n    row_categories_sorted = row_categories.sort_values(ascending=False)\n    \n    return row_categories_sorted.index.values[0:num_top_venues]\n\nnum_top_venues = 10\n\ncolumns = ['City','Borough','NeighborhoodName','Latitude','Longitude','Total Number of Venues']\nindicators = ['st', 'nd', 'rd']\n# create columns according to number of top venues\n\nfor ind in np.arange(num_top_venues):\n    try:\n        columns.append('{}{} Most Common Venue'.format(ind+1, indicators[ind]))\n    except:\n        columns.append('{}th Most Common Venue'.format(ind+1))\n\n# create a new dataframe\nallvenues_sorted = pd.DataFrame(columns = columns)\n#allvenues_sorted = allvenues_grouped[['City','Borough','NeighborhoodName']]\n\nfor ind in range(allvenues_grouped.shape[0]):\n    allvenues_sorted.loc[ind, 'City'] = allvenues_grouped.iloc[ind].City\n    allvenues_sorted.loc[ind, 'Borough'] = allvenues_grouped.iloc[ind].Borough\n    allvenues_sorted.loc[ind, 'NeighborhoodName'] = allvenues_grouped.iloc[ind].NeighborhoodName\n    allvenues_sorted.loc[ind, 'Latitude'] = allvenues_grouped.iloc[ind].Latitude\n    allvenues_sorted.loc[ind, 'Longitude'] = allvenues_grouped.iloc[ind].Longitude\n    allvenues_sorted.loc[ind, 'Total Number of Venues'] = allvenues_grouped.iloc[ind,5:].sum()\n    allvenues_sorted.iloc[ind, 6:] = return_most_common_venues(allvenues_grouped.iloc[ind, 5:], num_top_venues)",
            "execution_count": null,
            "outputs": []
        },
        {
            "metadata": {},
            "cell_type": "code",
            "source": " \tCity \tBorough \tNeighborhoodName \tLatitude \tLongitude \tTotal Number of Venues \t1st Most Common Venue \t2nd Most Common Venue \t3rd Most Common Venue \t4th Most Common Venue \t5th Most Common Venue \t6th Most Common Venue \t7th Most Common Venue \t8th Most Common Venue \t9th Most Common Venue \t10th Most Common Venue\n0 \tNew York \tBronx \tFieldston \t40.895437 \t-73.905643 \t1.0 \tCosmetics Shop \tATM \tPastry Shop \tPiercing Parlor \tPier \tPharmacy \tPet Store \tPet Caf\u00e9 \tPerforming Arts Venue \tPark\n1 \tNew York \tBronx \tKingsbridge \t40.881687 \t-73.902818 \t4.0 \tSupermarket \tThrift / Vintage Store \tGourmet Shop \tMattress Store \tPastry Shop \tPier \tPharmacy \tPet Store \tPet Caf\u00e9 \tPerforming Arts Venue\n2 \tNew York \tBronx \tWoodlawn \t40.898273 \t-73.867315 \t9.0 \tPub \tDeli / Bodega \tBar \tGrocery Store \tIndian Restaurant \tPizza Place \tPiercing Parlor \tPier \tPharmacy \tPet Store\n3 \tNew York \tBronx \tNorwood \t40.877224 \t-73.879391 \t1.0 \tMexican Restaurant \tPizza Place \tPilates Studio \tPiercing Parlor \tPier \tPharmacy \tPet Store \tPet Caf\u00e9 \tPerforming Arts Venue \tATM\n4 \tNew York \tBronx \tCity Island \t40.847247 \t-73.786488 \t9.0 \tDiner \tBar \tGrocery Store \tFrozen Yogurt Shop \tFrench Restaurant \tPizza Place \tIce Cream Shop \tDeli / Bodega \tAmerican Restaurant \tReal Estate Office",
            "execution_count": null,
            "outputs": []
        },
        {
            "metadata": {},
            "cell_type": "code",
            "source": "allvenues_grouped.shape",
            "execution_count": null,
            "outputs": []
        },
        {
            "metadata": {},
            "cell_type": "markdown",
            "source": "# Use hierarchical agglomerative clustering method to compare neighborhoods among cities.\nFirst, find the number of clusters. Let's use scipy library to create the dendrograms for our dataset.\n"
        },
        {
            "metadata": {},
            "cell_type": "code",
            "source": "import scipy.cluster.hierarchy as shc\n\ndata = allvenues_grouped.iloc[:,6:]\nplt.figure(figsize=(10, 7))   \nplt.title('Hierarchical Clustering Dendrogram')\nplt.xlabel('Neighborhoods')\nplt.ylabel('Distance')\nplt.axhline(y=31, c='k')\ndend = shc.dendrogram(shc.linkage(data, method='ward'))",
            "execution_count": null,
            "outputs": []
        },
        {
            "metadata": {},
            "cell_type": "code",
            "source": "\nAccording to the above graph, I decide to separate our neighborhoods into 9 clusters. I will use the hierarchical agglomerative clustering of the sklearn.\nImport AgglomerativeClustering\n",
            "execution_count": null,
            "outputs": []
        }
    ],
    "metadata": {
        "kernelspec": {
            "name": "python3",
            "display_name": "Python 3.7",
            "language": "python"
        },
        "language_info": {
            "name": "python",
            "version": "3.7.9",
            "mimetype": "text/x-python",
            "codemirror_mode": {
                "name": "ipython",
                "version": 3
            },
            "pygments_lexer": "ipython3",
            "nbconvert_exporter": "python",
            "file_extension": ".py"
        }
    },
    "nbformat": 4,
    "nbformat_minor": 1
}